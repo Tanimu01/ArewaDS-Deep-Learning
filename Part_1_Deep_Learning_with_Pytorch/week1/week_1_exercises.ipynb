{
 "cells": [
  {
   "cell_type": "markdown",
   "metadata": {},
   "source": [
    "## Arewa DataScience Academy\n",
    "### Deep Learning Cohort 1.0\n",
    "\n",
    "### WEEK 1 Exercises"
   ]
  },
  {
   "cell_type": "markdown",
   "metadata": {},
   "source": [
    "### Exercises:\n",
    "Please, see week 1 exercises from [**Learn PyTorch for Deep Learning**: 00. Pytorch Fundamentals](https://www.learnpytorch.io/00_pytorch_fundamentals/#exercises)"
   ]
  },
  {
   "cell_type": "markdown",
   "metadata": {},
   "source": [
    "### Additional Exercise"
   ]
  },
  {
   "cell_type": "code",
   "execution_count": 1,
   "metadata": {},
   "outputs": [
    {
     "name": "stdout",
     "output_type": "stream",
     "text": [
      "2.1.2+cu118\n"
     ]
    }
   ],
   "source": [
    "import torch\n",
    "print(f\"{torch.__version__}\")"
   ]
  },
  {
   "cell_type": "markdown",
   "metadata": {},
   "source": [
    "Q2.  ANSWER"
   ]
  },
  {
   "cell_type": "code",
   "execution_count": 2,
   "metadata": {},
   "outputs": [
    {
     "name": "stdout",
     "output_type": "stream",
     "text": [
      "tensor([[0.2234, 0.2842, 0.8989, 0.9920, 0.6975, 0.5905, 0.4453],\n",
      "        [0.7946, 0.1625, 0.4610, 0.5140, 0.6554, 0.7686, 0.3572],\n",
      "        [0.3476, 0.0050, 0.1635, 0.3963, 0.5519, 0.1904, 0.3504],\n",
      "        [0.2869, 0.9863, 0.3215, 0.6834, 0.8017, 0.0596, 0.8793],\n",
      "        [0.2539, 0.1186, 0.8208, 0.5416, 0.3667, 0.8620, 0.1467],\n",
      "        [0.9057, 0.9503, 0.2164, 0.0461, 0.6786, 0.4177, 0.7850],\n",
      "        [0.3221, 0.2321, 0.0090, 0.2438, 0.2438, 0.6170, 0.3502]])\n"
     ]
    }
   ],
   "source": [
    "random_tensor = torch.rand((7, 7))\n",
    "\n",
    "print(random_tensor)"
   ]
  },
  {
   "cell_type": "markdown",
   "metadata": {},
   "source": [
    "Q3 ANSWER"
   ]
  },
  {
   "cell_type": "markdown",
   "metadata": {},
   "source": []
  },
  {
   "cell_type": "code",
   "execution_count": 5,
   "metadata": {},
   "outputs": [
    {
     "name": "stdout",
     "output_type": "stream",
     "text": [
      "tensor([[0.8623],\n",
      "        [1.4384],\n",
      "        [1.3755],\n",
      "        [1.7888],\n",
      "        [0.9928],\n",
      "        [1.3711],\n",
      "        [1.6429]])\n"
     ]
    }
   ],
   "source": [
    "random_tensor_1 = torch.rand((7, 7))\n",
    "\n",
    "# Create the second random tensor with shape (1, 7)\n",
    "random_tensor_2 = torch.rand((1, 7))\n",
    "\n",
    "# Transpose the second tensor\n",
    "random_tensor_2_transposed = random_tensor_2.t()\n",
    "result_tensor = torch.mm(random_tensor_1, random_tensor_2_transposed)\n",
    "\n",
    "print(result_tensor)"
   ]
  },
  {
   "cell_type": "markdown",
   "metadata": {},
   "source": [
    "Q4 ANSWER"
   ]
  },
  {
   "cell_type": "code",
   "execution_count": 7,
   "metadata": {},
   "outputs": [
    {
     "name": "stdout",
     "output_type": "stream",
     "text": [
      "tensor([[0.4963, 0.7682, 0.0885, 0.1320, 0.3074, 0.6341, 0.4901],\n",
      "        [0.8964, 0.4556, 0.6323, 0.3489, 0.4017, 0.0223, 0.1689],\n",
      "        [0.2939, 0.5185, 0.6977, 0.8000, 0.1610, 0.2823, 0.6816],\n",
      "        [0.9152, 0.3971, 0.8742, 0.4194, 0.5529, 0.9527, 0.0362],\n",
      "        [0.1852, 0.3734, 0.3051, 0.9320, 0.1759, 0.2698, 0.1507],\n",
      "        [0.0317, 0.2081, 0.9298, 0.7231, 0.7423, 0.5263, 0.2437],\n",
      "        [0.5846, 0.0332, 0.1387, 0.2422, 0.8155, 0.7932, 0.2783]])\n",
      "Random Tensor (7x7):\n",
      " tensor([[0.8823, 0.9150, 0.3829, 0.9593, 0.3904, 0.6009, 0.2566],\n",
      "        [0.7936, 0.9408, 0.1332, 0.9346, 0.5936, 0.8694, 0.5677],\n",
      "        [0.7411, 0.4294, 0.8854, 0.5739, 0.2666, 0.6274, 0.2696],\n",
      "        [0.4414, 0.2969, 0.8317, 0.1053, 0.2695, 0.3588, 0.1994],\n",
      "        [0.5472, 0.0062, 0.9516, 0.0753, 0.8860, 0.5832, 0.3376],\n",
      "        [0.8090, 0.5779, 0.9040, 0.5547, 0.3423, 0.6343, 0.3644],\n",
      "        [0.7104, 0.9464, 0.7890, 0.2814, 0.7886, 0.5895, 0.7539]])\n",
      "\n",
      "Random Tensor (1x7, transposed):\n",
      " tensor([[0.1952],\n",
      "        [0.0050],\n",
      "        [0.3068],\n",
      "        [0.1165],\n",
      "        [0.9103],\n",
      "        [0.6440],\n",
      "        [0.7071]])\n",
      "\n",
      "Result of Matrix Multiplication:\n",
      " tensor([[1.3299],\n",
      "        [1.8111],\n",
      "        [1.3228],\n",
      "        [0.9725],\n",
      "        [1.8285],\n",
      "        [1.4806],\n",
      "        [2.0489]])\n"
     ]
    }
   ],
   "source": [
    "torch.manual_seed(0)\n",
    "\n",
    "# Create a random tensor with shape (7, 7)\n",
    "random_tensor = torch.rand((7, 7))\n",
    "\n",
    "print(random_tensor)\n",
    "import torch\n",
    "\n",
    "# Set a seed for reproducibility\n",
    "torch.manual_seed(42)\n",
    "\n",
    "# Create a random tensor with shape (7, 7) in PyTorch\n",
    "tensor_7x7 = torch.rand(7, 7)\n",
    "\n",
    "# Create a random tensor with shape (1, 7) in PyTorch\n",
    "tensor_1x7 = torch.rand(1, 7)\n",
    "\n",
    "# Transpose the second tensor\n",
    "tensor_1x7_transposed = tensor_1x7.t()\n",
    "\n",
    "# Perform matrix multiplication\n",
    "result = torch.mm(tensor_7x7, tensor_1x7_transposed)\n",
    "\n",
    "print(\"Random Tensor (7x7):\\n\", tensor_7x7)\n",
    "print(\"\\nRandom Tensor (1x7, transposed):\\n\", tensor_1x7_transposed)\n",
    "print(\"\\nResult of Matrix Multiplication:\\n\", result)\n"
   ]
  },
  {
   "cell_type": "markdown",
   "metadata": {},
   "source": [
    "Q5 ANSWER"
   ]
  },
  {
   "cell_type": "markdown",
   "metadata": {},
   "source": [
    "Yes, PyTorch provides a GPU equivalent for setting the random seed. You can use torch.cuda.manual_seed to set the random seed for GPU operations"
   ]
  },
  {
   "cell_type": "code",
   "execution_count": 8,
   "metadata": {},
   "outputs": [
    {
     "name": "stderr",
     "output_type": "stream",
     "text": [
      "c:\\Users\\pc\\AppData\\Local\\Programs\\Python\\Python311\\Lib\\site-packages\\torch\\cuda\\__init__.py:138: UserWarning: CUDA initialization: The NVIDIA driver on your system is too old (found version 8000). Please update your GPU driver by downloading and installing a new version from the URL: http://www.nvidia.com/Download/index.aspx Alternatively, go to: https://pytorch.org to install a PyTorch version that has been compiled with your version of the CUDA driver. (Triggered internally at ..\\c10\\cuda\\CUDAFunctions.cpp:108.)\n",
      "  return torch._C._cuda_getDeviceCount() > 0\n"
     ]
    }
   ],
   "source": [
    "torch.manual_seed(1234)\n",
    "\n",
    "# Check if a GPU is available\n",
    "if torch.cuda.is_available():\n",
    "    #  GPU random seed\n",
    "    torch.cuda.manual_seed(1234)"
   ]
  },
  {
   "cell_type": "markdown",
   "metadata": {},
   "source": [
    "Q6 ANSWER"
   ]
  },
  {
   "cell_type": "code",
   "execution_count": 12,
   "metadata": {},
   "outputs": [
    {
     "name": "stdout",
     "output_type": "stream",
     "text": [
      "GPU not available. Please ensure that PyTorch is configured to use GPU.\n"
     ]
    }
   ],
   "source": [
    "torch.manual_seed(1234)\n",
    "\n",
    "# Check if a GPU is available\n",
    "if torch.cuda.is_available():\n",
    "    # Set the random seed for GPU operations (optional)\n",
    "    torch.cuda.manual_seed(5678)  \n",
    "\n",
    "    # Create random tensors on the GPU\n",
    "    tensor_gpu_1 = torch.rand((2, 3), device=\"cuda\")\n",
    "    tensor_gpu_2 = torch.rand((2, 3), device=\"cuda\")\n",
    "\n",
    "    print(\"Random Tensor 1 (GPU):\\n\", tensor_gpu_1)\n",
    "    print(\"\\nRandom Tensor 2 (GPU):\\n\", tensor_gpu_2)\n",
    "else:\n",
    "    print(\"GPU not available. Please ensure that PyTorch is configured to use GPU.\")"
   ]
  },
  {
   "cell_type": "markdown",
   "metadata": {},
   "source": [
    "Q7. ANSWER"
   ]
  },
  {
   "cell_type": "code",
   "execution_count": 13,
   "metadata": {},
   "outputs": [
    {
     "name": "stdout",
     "output_type": "stream",
     "text": [
      "GPU not available. Please ensure that PyTorch is configured to use GPU.\n"
     ]
    }
   ],
   "source": [
    "torch.manual_seed(1234)\n",
    "\n",
    "# Check if a GPU is available\n",
    "if torch.cuda.is_available():\n",
    "    # Set the random seed for GPU operations (optional)\n",
    "    torch.cuda.manual_seed(5678) \n",
    "\n",
    "    # Create random tensors on the GPU\n",
    "    tensor_gpu_1 = torch.rand((2, 3), device=\"cuda\")\n",
    "    tensor_gpu_2 = torch.rand((3, 2), device=\"cuda\")  \n",
    "\n",
    "    # Perform matrix multiplication\n",
    "    result_gpu = torch.mm(tensor_gpu_1, tensor_gpu_2)\n",
    "\n",
    "    print(\"Random Tensor 1 (GPU):\\n\", tensor_gpu_1)\n",
    "    print(\"\\nRandom Tensor 2 (GPU):\\n\", tensor_gpu_2)\n",
    "    print(\"\\nResult of Matrix Multiplication (GPU):\\n\", result_gpu)\n",
    "else:\n",
    "    print(\"GPU not available. Please ensure that PyTorch is configured to use GPU.\")"
   ]
  },
  {
   "cell_type": "markdown",
   "metadata": {},
   "source": [
    "Q8."
   ]
  },
  {
   "cell_type": "code",
   "execution_count": 14,
   "metadata": {},
   "outputs": [
    {
     "name": "stdout",
     "output_type": "stream",
     "text": [
      "GPU not available. Please ensure that PyTorch is configured to use GPU.\n"
     ]
    }
   ],
   "source": [
    "\n",
    "torch.manual_seed(1234)\n",
    "\n",
    "# Check if a GPU is available\n",
    "if torch.cuda.is_available():\n",
    "    # Set the random seed for GPU operations (optional)\n",
    "    torch.cuda.manual_seed(5678)  \n",
    "\n",
    "    # Create random tensors on the GPU\n",
    "    tensor_gpu_1 = torch.rand((2, 3), device=\"cuda\")\n",
    "    tensor_gpu_2 = torch.rand((3, 2), device=\"cuda\")  \n",
    "\n",
    "    # Perform matrix multiplication\n",
    "    result_gpu = torch.mm(tensor_gpu_1, tensor_gpu_2)\n",
    "\n",
    "    print(\"Result of Matrix Multiplication (GPU):\\n\", result_gpu)\n",
    "\n",
    "    # Find the maximum and minimum values\n",
    "    max_value = torch.max(result_gpu)\n",
    "    min_value = torch.min(result_gpu)\n",
    "\n",
    "    print(\"\\nMaximum Value:\", max_value.item())\n",
    "    print(\"Minimum Value:\", min_value.item())\n",
    "else:\n",
    "    print(\"GPU not available. Please ensure that PyTorch is configured to use GPU.\")"
   ]
  },
  {
   "cell_type": "markdown",
   "metadata": {},
   "source": [
    "Q9."
   ]
  },
  {
   "cell_type": "code",
   "execution_count": 15,
   "metadata": {},
   "outputs": [
    {
     "name": "stdout",
     "output_type": "stream",
     "text": [
      "GPU not available. Please ensure that PyTorch is configured to use GPU.\n"
     ]
    }
   ],
   "source": [
    "torch.manual_seed(1234)\n",
    "\n",
    "# Check if a GPU is available\n",
    "if torch.cuda.is_available():\n",
    "\n",
    "    torch.cuda.manual_seed(5678)  \n",
    "    # Create random tensors on the GPU\n",
    "    tensor_gpu_1 = torch.rand((2, 3), device=\"cuda\")\n",
    "    tensor_gpu_2 = torch.rand((3, 2), device=\"cuda\") \n",
    "\n",
    "    # Perform matrix multiplication\n",
    "    result_gpu = torch.mm(tensor_gpu_1, tensor_gpu_2)\n",
    "\n",
    "    print(\"Result of Matrix Multiplication (GPU):\\n\", result_gpu)\n",
    "\n",
    "    # Find the indices of the maximum and minimum values\n",
    "    max_index = torch.argmax(result_gpu)\n",
    "    min_index = torch.argmin(result_gpu)\n",
    "\n",
    "    # Convert flat index to 2D indices\n",
    "    max_index_2d = torch.unravel_index(max_index, result_gpu.shape)\n",
    "    min_index_2d = torch.unravel_index(min_index, result_gpu.shape)\n",
    "\n",
    "    print(\"\\nIndices of Maximum Value:\", max_index_2d)\n",
    "    print(\"Indices of Minimum Value:\", min_index_2d)\n",
    "else:\n",
    "    print(\"GPU not available. Please ensure that PyTorch is configured to use GPU.\")"
   ]
  },
  {
   "cell_type": "markdown",
   "metadata": {},
   "source": [
    "Q10"
   ]
  },
  {
   "cell_type": "code",
   "execution_count": 16,
   "metadata": {},
   "outputs": [
    {
     "name": "stdout",
     "output_type": "stream",
     "text": [
      "Original Tensor with Dimensions:\n",
      " tensor([[[[0.5349, 0.1988, 0.6592, 0.6569, 0.2328, 0.4251, 0.2071, 0.6297,\n",
      "           0.3653, 0.8513]]]])\n",
      "Shape of Original Tensor: torch.Size([1, 1, 1, 10])\n",
      "\n",
      "Tensor without Dimensions:\n",
      " tensor([0.5349, 0.1988, 0.6592, 0.6569, 0.2328, 0.4251, 0.2071, 0.6297, 0.3653,\n",
      "        0.8513])\n",
      "Shape of Tensor without Dimensions: torch.Size([10])\n"
     ]
    }
   ],
   "source": [
    "\n",
    "torch.manual_seed(7)\n",
    "\n",
    "# Create a random tensor with shape (1, 1, 1, 10)\n",
    "tensor_with_dimensions = torch.rand((1, 1, 1, 10))\n",
    "\n",
    "# Remove singleton dimensions to get a tensor with shape (10)\n",
    "tensor_without_dimensions = tensor_with_dimensions.squeeze()\n",
    "\n",
    "# Print the first tensor and its shape\n",
    "print(\"Original Tensor with Dimensions:\\n\", tensor_with_dimensions)\n",
    "print(\"Shape of Original Tensor:\", tensor_with_dimensions.shape)\n",
    "\n",
    "# Print the second tensor and its shape\n",
    "print(\"\\nTensor without Dimensions:\\n\", tensor_without_dimensions)\n",
    "print(\"Shape of Tensor without Dimensions:\", tensor_without_dimensions.shape)\n"
   ]
  }
 ],
 "metadata": {
  "kernelspec": {
   "display_name": "Python 3",
   "language": "python",
   "name": "python3"
  },
  "language_info": {
   "codemirror_mode": {
    "name": "ipython",
    "version": 3
   },
   "file_extension": ".py",
   "mimetype": "text/x-python",
   "name": "python",
   "nbconvert_exporter": "python",
   "pygments_lexer": "ipython3",
   "version": "3.11.1"
  }
 },
 "nbformat": 4,
 "nbformat_minor": 2
}
